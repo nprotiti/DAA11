{
 "cells": [
  {
   "cell_type": "markdown",
   "metadata": {
    "slideshow": {
     "slide_type": "slide"
    }
   },
   "source": [
    "**Advanced Astroinformatics (Semester 1 2024)**\n",
    "# Discussing Results so far\n",
    "\n",
    "**Advanced Astroinformatics Student Project**\n",
    "\n",
    "*N. Hernitschek*\n",
    "\n",
    "\n",
    "\n",
    "---\n",
    "## Contents\n",
    "* [Recap, Questions](#first-bullet)\n",
    "* [Tasks for Today](#second-bullet)\n",
    "* [Summary](#fifth-bullet)\n"
   ]
  },
  {
   "cell_type": "markdown",
   "metadata": {},
   "source": [
    "## 1. Recap, Questions <a class=\"anchor\" id=\"first-bullet\"></a>\n",
    "\n",
    "Time for questions!\n",
    "\n",
    "Your **tasks until this week** were:\n",
    "\n",
    "\n",
    "Create a feature table showing the calculated features for all variable stars in the TESS sample (using the _TESS_lightcurves_outliercleaned light curves).\n",
    "\n",
    "Use this feature table to create a triangle plot showing the features first for all variable stars from one star type (e.g.: ACV). If this works, for each type create a triangle plot.\n",
    "Then, calculate the feature table also for the other versions of the light curves (_TESS_lightcurves_median_after_detrended, _TESS_lightcurves_raw). Overplot these features to each of your triangle plots. (I.e.: After this step you should have individual triangle plots for the types ACV, CEP, DCEP..., showing the calculated features for te raw, median/detrended, and outlier cleaned light curves.)\n",
    "\n",
    "What do these triangle plots tell you?"
   ]
  },
  {
   "cell_type": "markdown",
   "metadata": {},
   "source": [
    "Did you find certain patterns, regions... in the plots that correspond to what you have read about variable stars (https://www.aavso.org/vsx/index.php?view=about.vartypes)?"
   ]
  },
  {
   "cell_type": "markdown",
   "metadata": {},
   "source": [
    "If already done: Which distinctive differences do you recognize between plots done from the three different versions of the light curve (_TESS_lightcurves_outliercleaned, _TESS_lightcurves_median_after_detrended, _TESS_lightcurves_raw)?"
   ]
  },
  {
   "cell_type": "markdown",
   "metadata": {},
   "source": [
    "## 2. Tasks for Today <a class=\"anchor\" id=\"second-bullet\"></a>\n",
    "\n",
    "If not already done: Repeat the light curve plots, feature table and triangle plots for all the other versions of the light curves (_TESS_lightcurves_median_after_detrended, _TESS_lightcurves_raw).\n",
    "\n",
    "Otherwise: Take a look at https://scikit-learn.org/stable/tutorial/basic/tutorial.html and try to familiarize yourself with `scikit-learn`.\n",
    "\n",
    "You can also take a look at https://www.overleaf.com/. This is an online LaTeX editor. It is widely used in astronomy for writing papers collaboratively. I thus recommend using it for your project report.\n",
    "\n",
    "Today we are doing (again) a coding and Q&A session today and continue next week with a detailed introduction to machine learning and `scikit-learn`."
   ]
  },
  {
   "cell_type": "code",
   "execution_count": 3,
   "metadata": {
    "scrolled": false
   },
   "outputs": [
    {
     "name": "stdout",
     "output_type": "stream",
     "text": [
      "Error processing /home/user/DAA11/TESS_lightcurves_outliercleaned/ACV/308452159_sector01_4_3_cleaned.lc: Length mismatch: Expected axis has 1 elements, new values have 3 elements\n",
      "Error processing /home/user/DAA11/TESS_lightcurves_outliercleaned/ACV/270304671_sector01_1_3_cleaned.lc: Length mismatch: Expected axis has 1 elements, new values have 3 elements\n",
      "Error processing /home/user/DAA11/TESS_lightcurves_outliercleaned/ACV/92705248_sector01_1_1_cleaned.lc: Length mismatch: Expected axis has 1 elements, new values have 3 elements\n",
      "Error processing /home/user/DAA11/TESS_lightcurves_outliercleaned/ACV/364424408_sector01_4_2_cleaned.lc: Length mismatch: Expected axis has 1 elements, new values have 3 elements\n",
      "Error processing /home/user/DAA11/TESS_lightcurves_outliercleaned/ACV/238869272_sector01_3_2_cleaned.lc: Length mismatch: Expected axis has 1 elements, new values have 3 elements\n",
      "Error processing /home/user/DAA11/TESS_lightcurves_outliercleaned/CEP/278863994_sector01_4_4_cleaned.lc: Length mismatch: Expected axis has 1 elements, new values have 3 elements\n",
      "Error processing /home/user/DAA11/TESS_lightcurves_outliercleaned/CEP/150106606_sector01_4_4_cleaned.lc: Length mismatch: Expected axis has 1 elements, new values have 3 elements\n",
      "Error processing /home/user/DAA11/TESS_lightcurves_outliercleaned/CEP/350434368_sector01_4_4_cleaned.lc: Length mismatch: Expected axis has 1 elements, new values have 3 elements\n",
      "Error processing /home/user/DAA11/TESS_lightcurves_outliercleaned/CEP/364588437_sector01_4_2_cleaned.lc: Length mismatch: Expected axis has 1 elements, new values have 3 elements\n",
      "Error processing /home/user/DAA11/TESS_lightcurves_outliercleaned/CEP/394216280_sector01_3_2_cleaned.lc: Length mismatch: Expected axis has 1 elements, new values have 3 elements\n",
      "Error processing /home/user/DAA11/TESS_lightcurves_outliercleaned/DCEP/294751087_sector01_4_1_cleaned.lc: Length mismatch: Expected axis has 1 elements, new values have 3 elements\n",
      "Error processing /home/user/DAA11/TESS_lightcurves_outliercleaned/DCEP/181455029_sector01_3_2_cleaned.lc: Length mismatch: Expected axis has 1 elements, new values have 3 elements\n",
      "Error processing /home/user/DAA11/TESS_lightcurves_outliercleaned/DCEP/30761652_sector01_4_2_cleaned.lc: Length mismatch: Expected axis has 1 elements, new values have 3 elements\n",
      "Error processing /home/user/DAA11/TESS_lightcurves_outliercleaned/DCEP/267547684_sector01_3_2_cleaned.lc: Length mismatch: Expected axis has 1 elements, new values have 3 elements\n",
      "Error processing /home/user/DAA11/TESS_lightcurves_outliercleaned/DCEP/184137179_sector01_3_3_cleaned.lc: Length mismatch: Expected axis has 1 elements, new values have 3 elements\n"
     ]
    },
    {
     "name": "stderr",
     "output_type": "stream",
     "text": [
      "WARNING: AstropyDeprecationWarning: Importing LombScargle from astropy.stats has been deprecated and will no longer be supported in future. Please import this class from the astropy.timeseries module instead [astropy.stats.lombscargle]\n",
      "/home/user/anaconda3/lib/python3.7/site-packages/feets/extractors/ext_eta_e.py:115: RuntimeWarning: divide by zero encountered in true_divide\n",
      "  w = 1.0 / np.power(np.subtract(time[1:], time[:-1]), 2)\n",
      "/home/user/anaconda3/lib/python3.7/site-packages/feets/extractors/ext_eta_e.py:125: RuntimeWarning: invalid value encountered in double_scalars\n",
      "  time[0], 2) * S1 / (sigma2 * S2 * N ** 2))\n",
      "/home/user/anaconda3/lib/python3.7/site-packages/feets/extractors/ext_max_slope.py:91: RuntimeWarning: divide by zero encountered in true_divide\n",
      "  slope = np.abs(magnitude[1:] - magnitude[:-1]) / (time[1:] - time[:-1])\n",
      "WARNING: AstropyDeprecationWarning: Importing LombScargle from astropy.stats has been deprecated and will no longer be supported in future. Please import this class from the astropy.timeseries module instead [astropy.stats.lombscargle]\n",
      "/home/user/anaconda3/lib/python3.7/site-packages/feets/extractors/ext_eta_e.py:115: RuntimeWarning: divide by zero encountered in true_divide\n",
      "  w = 1.0 / np.power(np.subtract(time[1:], time[:-1]), 2)\n",
      "/home/user/anaconda3/lib/python3.7/site-packages/feets/extractors/ext_eta_e.py:125: RuntimeWarning: invalid value encountered in double_scalars\n",
      "  time[0], 2) * S1 / (sigma2 * S2 * N ** 2))\n",
      "/home/user/anaconda3/lib/python3.7/site-packages/feets/extractors/ext_max_slope.py:91: RuntimeWarning: divide by zero encountered in true_divide\n",
      "  slope = np.abs(magnitude[1:] - magnitude[:-1]) / (time[1:] - time[:-1])\n",
      "WARNING: AstropyDeprecationWarning: Importing LombScargle from astropy.stats has been deprecated and will no longer be supported in future. Please import this class from the astropy.timeseries module instead [astropy.stats.lombscargle]\n",
      "WARNING: AstropyDeprecationWarning: Importing LombScargle from astropy.stats has been deprecated and will no longer be supported in future. Please import this class from the astropy.timeseries module instead [astropy.stats.lombscargle]\n",
      "/home/user/anaconda3/lib/python3.7/site-packages/feets/extractors/ext_eta_e.py:115: RuntimeWarning: divide by zero encountered in true_divide\n",
      "  w = 1.0 / np.power(np.subtract(time[1:], time[:-1]), 2)\n",
      "/home/user/anaconda3/lib/python3.7/site-packages/feets/extractors/ext_eta_e.py:125: RuntimeWarning: invalid value encountered in double_scalars\n",
      "  time[0], 2) * S1 / (sigma2 * S2 * N ** 2))\n",
      "/home/user/anaconda3/lib/python3.7/site-packages/feets/extractors/ext_max_slope.py:91: RuntimeWarning: divide by zero encountered in true_divide\n",
      "  slope = np.abs(magnitude[1:] - magnitude[:-1]) / (time[1:] - time[:-1])\n",
      "WARNING: AstropyDeprecationWarning: Importing LombScargle from astropy.stats has been deprecated and will no longer be supported in future. Please import this class from the astropy.timeseries module instead [astropy.stats.lombscargle]\n",
      "/home/user/anaconda3/lib/python3.7/site-packages/feets/extractors/ext_eta_e.py:115: RuntimeWarning: divide by zero encountered in true_divide\n",
      "  w = 1.0 / np.power(np.subtract(time[1:], time[:-1]), 2)\n",
      "/home/user/anaconda3/lib/python3.7/site-packages/feets/extractors/ext_eta_e.py:125: RuntimeWarning: invalid value encountered in double_scalars\n",
      "  time[0], 2) * S1 / (sigma2 * S2 * N ** 2))\n",
      "/home/user/anaconda3/lib/python3.7/site-packages/feets/extractors/ext_max_slope.py:91: RuntimeWarning: divide by zero encountered in true_divide\n",
      "  slope = np.abs(magnitude[1:] - magnitude[:-1]) / (time[1:] - time[:-1])\n",
      "WARNING: AstropyDeprecationWarning: Importing LombScargle from astropy.stats has been deprecated and will no longer be supported in future. Please import this class from the astropy.timeseries module instead [astropy.stats.lombscargle]\n",
      "WARNING: AstropyDeprecationWarning: Importing LombScargle from astropy.stats has been deprecated and will no longer be supported in future. Please import this class from the astropy.timeseries module instead [astropy.stats.lombscargle]\n",
      "WARNING: AstropyDeprecationWarning: Importing LombScargle from astropy.stats has been deprecated and will no longer be supported in future. Please import this class from the astropy.timeseries module instead [astropy.stats.lombscargle]\n",
      "WARNING: AstropyDeprecationWarning: Importing LombScargle from astropy.stats has been deprecated and will no longer be supported in future. Please import this class from the astropy.timeseries module instead [astropy.stats.lombscargle]\n",
      "WARNING: AstropyDeprecationWarning: Importing LombScargle from astropy.stats has been deprecated and will no longer be supported in future. Please import this class from the astropy.timeseries module instead [astropy.stats.lombscargle]\n",
      "WARNING: AstropyDeprecationWarning: Importing LombScargle from astropy.stats has been deprecated and will no longer be supported in future. Please import this class from the astropy.timeseries module instead [astropy.stats.lombscargle]\n",
      "WARNING: AstropyDeprecationWarning: Importing LombScargle from astropy.stats has been deprecated and will no longer be supported in future. Please import this class from the astropy.timeseries module instead [astropy.stats.lombscargle]\n",
      "WARNING: AstropyDeprecationWarning: Importing LombScargle from astropy.stats has been deprecated and will no longer be supported in future. Please import this class from the astropy.timeseries module instead [astropy.stats.lombscargle]\n",
      "WARNING: AstropyDeprecationWarning: Importing LombScargle from astropy.stats has been deprecated and will no longer be supported in future. Please import this class from the astropy.timeseries module instead [astropy.stats.lombscargle]\n",
      "WARNING: AstropyDeprecationWarning: Importing LombScargle from astropy.stats has been deprecated and will no longer be supported in future. Please import this class from the astropy.timeseries module instead [astropy.stats.lombscargle]\n"
     ]
    },
    {
     "name": "stdout",
     "output_type": "stream",
     "text": [
      "Not enough samples for outliercleaned - ACV. Skipping plot generation.\n",
      "Not enough samples for outliercleaned - CEP. Skipping plot generation.\n",
      "Not enough samples for outliercleaned - DCEP. Skipping plot generation.\n",
      "Not enough samples for median_detrended - ACV. Skipping plot generation.\n",
      "Not enough samples for median_detrended - CEP. Skipping plot generation.\n",
      "Not enough samples for median_detrended - DCEP. Skipping plot generation.\n",
      "Not enough samples for raw - ACV. Skipping plot generation.\n",
      "Not enough samples for raw - CEP. Skipping plot generation.\n",
      "Not enough samples for raw - DCEP. Skipping plot generation.\n",
      "Processing completed.\n"
     ]
    }
   ],
   "source": [
    "import os\n",
    "import pandas as pd\n",
    "import feets\n",
    "import corner\n",
    "import matplotlib.pyplot as plt\n",
    "\n",
    "# Define the base data directory\n",
    "base_data_dir = \"/home/user/DAA11\"\n",
    "\n",
    "# Define the data directories for different versions of light curves\n",
    "data_dirs = {\n",
    "    'outliercleaned': os.path.join(base_data_dir, \"TESS_lightcurves_outliercleaned\"),\n",
    "    'median_detrended': os.path.join(base_data_dir, \"TESS_lightcurves_median_after_detrended\"),\n",
    "    'raw': os.path.join(base_data_dir, \"TESS_lightcurves_raw\")\n",
    "}\n",
    "\n",
    "# Define the star types\n",
    "star_types = [\"ACV\", \"CEP\", \"DCEP\"]  # Add more star types as needed\n",
    "\n",
    "# Define the features to exclude\n",
    "exclude_features = [\"AndersonDarling\", \"StetsonK\", \"StetsonK_AC\"]\n",
    "\n",
    "# Initialize the feature space\n",
    "fs = feets.FeatureSpace(data=['time', 'magnitude', 'error'], exclude=exclude_features)\n",
    "\n",
    "# Function to calculate features for a light curve file\n",
    "def calculate_features(file_path):\n",
    "    try:\n",
    "        lc_data = pd.read_csv(file_path, delim_whitespace=True, header=None, comment='#')\n",
    "        lc_data.columns = ['time', 'magnitude', 'error']\n",
    "        \n",
    "        lc_data['time'] = pd.to_numeric(lc_data['time'], errors='coerce')\n",
    "        lc_data['magnitude'] = pd.to_numeric(lc_data['magnitude'], errors='coerce')\n",
    "        lc_data['error'] = pd.to_numeric(lc_data['error'], errors='coerce')\n",
    "        \n",
    "        lc_data.dropna(inplace=True)\n",
    "        \n",
    "        features, values = fs.extract(time=lc_data['time'].values,\n",
    "                                      magnitude=lc_data['magnitude'].values,\n",
    "                                      error=lc_data['error'].values)\n",
    "        \n",
    "        return pd.Series(values, index=features)\n",
    "    \n",
    "    except Exception as e:\n",
    "        print(f\"Error processing {file_path}: {e}\")\n",
    "        return pd.Series()\n",
    "\n",
    "# Dictionary to store feature tables for each star type and each data version\n",
    "feature_tables = {data_version: {star_type: pd.DataFrame() for star_type in star_types} for data_version in data_dirs}\n",
    "\n",
    "# Load light curves and calculate features for each data version\n",
    "for data_version, data_dir in data_dirs.items():\n",
    "    for star_type in star_types:\n",
    "        star_type_dir = os.path.join(data_dir, star_type)\n",
    "        feature_list = []\n",
    "        \n",
    "        # Check if the directory exists before processing\n",
    "        if os.path.exists(star_type_dir):\n",
    "            # Process a limited number of files\n",
    "            num_files_to_process = 5\n",
    "            \n",
    "            lc_files = [lc_file for lc_file in os.listdir(star_type_dir) if lc_file.endswith(\".lc\")][:num_files_to_process]\n",
    "            \n",
    "            for lc_file in lc_files:\n",
    "                lc_file_path = os.path.join(star_type_dir, lc_file)\n",
    "                features = calculate_features(lc_file_path)\n",
    "                if not features.empty:\n",
    "                    feature_list.append(features)\n",
    "        \n",
    "        feature_tables[data_version][star_type] = pd.DataFrame(feature_list)\n",
    "\n",
    "# Output feature tables to CSV files (optional)\n",
    "for data_version, table in feature_tables.items():\n",
    "    for star_type, df in table.items():\n",
    "        output_csv = f\"feature_table_{data_version}_{star_type}.csv\"\n",
    "        df.to_csv(output_csv, index=False)\n",
    "\n",
    "# Function to create and save triangle plots\n",
    "def create_triangle_plot(feature_data, labels, output_file, title):\n",
    "    figure = corner.corner(feature_data, labels=labels, show_titles=True, title_kwargs={\"fontsize\": 12})\n",
    "    figure.suptitle(title)\n",
    "    figure.savefig(output_file)\n",
    "    plt.close()\n",
    "\n",
    "# Create triangle plots for each star type and each data version\n",
    "for data_version, table in feature_tables.items():\n",
    "    for star_type, df in table.items():\n",
    "        feature_data = df.values  # Get the values from DataFrame\n",
    "        if feature_data.shape[0] <= feature_data.shape[1]:\n",
    "            print(f\"Not enough samples for {data_version} - {star_type}. Skipping plot generation.\")\n",
    "            continue\n",
    "        \n",
    "        output_file = f\"triangle_plot_{data_version}_{star_type}.png\"\n",
    "        title = f\"Feature Triangle Plot for {star_type} Stars ({data_version})\"\n",
    "        \n",
    "        try:\n",
    "            create_triangle_plot(feature_data, fs.features, output_file, title)\n",
    "        except AssertionError as e:\n",
    "            print(f\"AssertionError occurred for {data_version} - {star_type}: {e}\")\n",
    "\n",
    "print(\"Processing completed.\")\n"
   ]
  },
  {
   "cell_type": "markdown",
   "metadata": {
    "slideshow": {
     "slide_type": "slide"
    }
   },
   "source": [
    "## Summary <a class=\"anchor\" id=\"fifth-bullet\"></a>\n",
    "\n",
    "At this point, you should have:\n",
    "* light curve plots that are meaningful: error bars, labels...\n",
    "* a feature table for the outlier-cleaned light curve\n",
    "* triangle plots that are meaningful: plot size/ number of types, colors, labels..."
   ]
  },
  {
   "cell_type": "code",
   "execution_count": null,
   "metadata": {},
   "outputs": [],
   "source": []
  }
 ],
 "metadata": {
  "anaconda-cloud": {},
  "kernelspec": {
   "display_name": "Python 3 (ipykernel)",
   "language": "python",
   "name": "python3"
  },
  "language_info": {
   "codemirror_mode": {
    "name": "ipython",
    "version": 3
   },
   "file_extension": ".py",
   "mimetype": "text/x-python",
   "name": "python",
   "nbconvert_exporter": "python",
   "pygments_lexer": "ipython3",
   "version": "3.7.0"
  }
 },
 "nbformat": 4,
 "nbformat_minor": 1
}
